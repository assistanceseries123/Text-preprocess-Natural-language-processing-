{
 "cells": [
  {
   "cell_type": "code",
   "execution_count": 2,
   "id": "0438ff08",
   "metadata": {},
   "outputs": [],
   "source": [
    "import nltk\n",
    "from nltk.tokenize import word_tokenize,sent_tokenize"
   ]
  },
  {
   "cell_type": "code",
   "execution_count": 4,
   "id": "e18f1e19",
   "metadata": {},
   "outputs": [],
   "source": [
    "sent_token='Your childhood teacher did not wrong you when they taught you that there should be three, or four, or five sentences in a paragraph. It is important to understand, however, that the aim in teaching this was not to impart a hard-and-fast rule of grammar, drawn from an authoritative-but-dusty book. The true aim of this strategy was to teach you that your ideas must be well supported to be persuasive and effective.'"
   ]
  },
  {
   "cell_type": "code",
   "execution_count": 7,
   "id": "fa13485a",
   "metadata": {},
   "outputs": [
    {
     "data": {
      "text/plain": [
       "'Your childhood teacher did not wrong you when they taught you that there should be three, or four, or five sentences in a paragraph. It is important to understand, however, that the aim in teaching this was not to impart a hard-and-fast rule of grammar, drawn from an authoritative-but-dusty book. The true aim of this strategy was to teach you that your ideas must be well supported to be persuasive and effective.'"
      ]
     },
     "execution_count": 7,
     "metadata": {},
     "output_type": "execute_result"
    }
   ],
   "source": [
    "sent_token"
   ]
  },
  {
   "cell_type": "code",
   "execution_count": 8,
   "id": "873b7300",
   "metadata": {},
   "outputs": [
    {
     "name": "stdout",
     "output_type": "stream",
     "text": [
      "['Your', 'childhood', 'teacher', 'did', 'not', 'wrong', 'you', 'when', 'they', 'taught', 'you', 'that', 'there', 'should', 'be', 'three', ',', 'or', 'four', ',', 'or', 'five', 'sentences', 'in', 'a', 'paragraph', '.', 'It', 'is', 'important', 'to', 'understand', ',', 'however', ',', 'that', 'the', 'aim', 'in', 'teaching', 'this', 'was', 'not', 'to', 'impart', 'a', 'hard-and-fast', 'rule', 'of', 'grammar', ',', 'drawn', 'from', 'an', 'authoritative-but-dusty', 'book', '.', 'The', 'true', 'aim', 'of', 'this', 'strategy', 'was', 'to', 'teach', 'you', 'that', 'your', 'ideas', 'must', 'be', 'well', 'supported', 'to', 'be', 'persuasive', 'and', 'effective', '.']\n"
     ]
    }
   ],
   "source": [
    "print(word_tokenize(sent_token))"
   ]
  },
  {
   "cell_type": "code",
   "execution_count": 11,
   "id": "34d2acc6",
   "metadata": {},
   "outputs": [
    {
     "name": "stdout",
     "output_type": "stream",
     "text": [
      "['Your childhood teacher did not wrong you when they taught you that there should be three, or four, or five sentences in a paragraph.', 'It is important to understand, however, that the aim in teaching this was not to impart a hard-and-fast rule of grammar, drawn from an authoritative-but-dusty book.', 'The true aim of this strategy was to teach you that your ideas must be well supported to be persuasive and effective.']\n"
     ]
    }
   ],
   "source": [
    "print(sent_tokenize(sent_token))"
   ]
  },
  {
   "cell_type": "code",
   "execution_count": null,
   "id": "b5b4fb4b",
   "metadata": {},
   "outputs": [],
   "source": []
  }
 ],
 "metadata": {
  "kernelspec": {
   "display_name": "Python 3 (ipykernel)",
   "language": "python",
   "name": "python3"
  },
  "language_info": {
   "codemirror_mode": {
    "name": "ipython",
    "version": 3
   },
   "file_extension": ".py",
   "mimetype": "text/x-python",
   "name": "python",
   "nbconvert_exporter": "python",
   "pygments_lexer": "ipython3",
   "version": "3.10.1"
  }
 },
 "nbformat": 4,
 "nbformat_minor": 5
}
